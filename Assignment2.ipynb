{
  "nbformat": 4,
  "nbformat_minor": 0,
  "metadata": {
    "colab": {
      "provenance": []
    },
    "kernelspec": {
      "name": "python3",
      "display_name": "Python 3"
    },
    "language_info": {
      "name": "python"
    }
  },
  "cells": [
    {
      "cell_type": "code",
      "source": [
        "import pandas as pd\n",
        "from sklearn.model_selection import train_test_split\n",
        "from sklearn.tree import DecisionTreeClassifier\n",
        "from sklearn.metrics import accuracy_score\n",
        "\n",
        "# Step 1: Load the dataset from the uploaded CSV file\n",
        "file_path = 'covid.csv'\n",
        "data = pd.read_csv(file_path)\n",
        "\n",
        "# List the column names to verify the presence of 'COVID-19' column\n",
        "#print(data.columns)\n",
        "#print(data.head())\n",
        "\n",
        "# Step 2: Define features (X) and target (Y)\n",
        "X = data[['Age', ' Fever (Celsius)', ' Cough (min)', ' Headache', ' Sore Throat', ' Loss of Taste']]\n",
        "Y = data[' COVID-19'] # Include the space in ' COVID-19'\n",
        "\n",
        "# Step 3: Split the dataset into training and testing data (50% training, 50% testing)\n",
        "X_train, X_test, Y_train, Y_test = train_test_split(X, Y, test_size=0.5)\n",
        "\n",
        "# Step 4: Choose a classifier (Decision Tree Classifier in this case)\n",
        "my_classifier = DecisionTreeClassifier()\n",
        "\n",
        "# Step 5: Fit the model with training data\n",
        "my_classifier.fit(X_train, Y_train)\n",
        "\n",
        "# Step 6: Make predictions using the test data\n",
        "predictions = my_classifier.predict(X_test)\n",
        "\n",
        "# Step 7: Evaluate accuracy\n",
        "accuracy = accuracy_score(Y_test, predictions)\n",
        "print(f\"Accuracy: {accuracy * 100:.2f}%\")"
      ],
      "metadata": {
        "colab": {
          "base_uri": "https://localhost:8080/"
        },
        "id": "HmuCixNfRpYp",
        "outputId": "ec19ea05-0d56-4826-cdb9-4ee0ec448d62"
      },
      "execution_count": 35,
      "outputs": [
        {
          "output_type": "stream",
          "name": "stdout",
          "text": [
            "Accuracy: 90.00%\n"
          ]
        }
      ]
    },
    {
      "cell_type": "code",
      "source": [
        "import pandas as pd\n",
        "from sklearn.model_selection import train_test_split\n",
        "from sklearn.tree import DecisionTreeClassifier\n",
        "\n",
        "# Step 1: Create the dataset\n",
        "data = {\n",
        "    'Temperature (°F)': [75, 82, 65, 70, 72, 69, 85, 75, 80, 60, 72, 68, 76, 70, 77, 73, 62, 64, 78, 80],\n",
        "    'Rainy': [0, 0, 1, 0, 1, 0, 0, 0, 1, 0, 1, 0, 0, 1, 0, 0, 0, 0, 1, 0],\n",
        "    'Windy': [0, 1, 0, 0, 1, 0, 1, 0, 1, 0, 0, 0, 0, 0, 0, 0, 1, 1, 0, 0],\n",
        "    'Play Tennis': ['Can Play', 'Can Play', 'Can\\'t Play', 'Can Play', 'Can\\'t Play',\n",
        "                    'Can Play', 'Can\\'t Play', 'Can Play', 'Can\\'t Play', 'Can Play',\n",
        "                    'Can\\'t Play', 'Can Play', 'Can Play', 'Can\\'t Play', 'Can Play',\n",
        "                    'Can Play', 'Can\\'t Play', 'Can\\'t Play', 'Can\\'t Play', 'Can Play']\n",
        "}\n",
        "\n",
        "df = pd.DataFrame(data)\n",
        "\n",
        "# Step 2: Define features (X) and target (y)\n",
        "X = df[['Temperature (°F)', 'Rainy', 'Windy']]\n",
        "y = df['Play Tennis']\n",
        "\n",
        "# Step 3: Split the dataset into training and testing data (80% training, 20% testing)\n",
        "X_train, X_test, y_train, y_test = train_test_split(X, y, test_size=0.2, random_state=42)\n",
        "\n",
        "# Step 4: Create and train the machine learning model (Decision Tree Classifier)\n",
        "model = DecisionTreeClassifier()\n",
        "model.fit(X_train, y_train)\n",
        "\n",
        "# Step 5: Test the model on three new samples\n",
        "new_samples = pd.DataFrame({\n",
        "    'Temperature (°F)': [62, 75, 78],\n",
        "    'Rainy': [0, 1, 0],\n",
        "    'Windy': [0, 0, 1]\n",
        "})\n",
        "\n",
        "predictions = model.predict(new_samples)\n",
        "print(\"Predictions for new samples:\")\n",
        "for sample, prediction in zip(new_samples.values, predictions):\n",
        "    print(f\"Sample: {sample}, Prediction: {prediction}\")\n"
      ],
      "metadata": {
        "colab": {
          "base_uri": "https://localhost:8080/"
        },
        "id": "YHhTJ0n6TMlX",
        "outputId": "6571d50f-1453-43bd-8352-ace2c936bc5a"
      },
      "execution_count": 36,
      "outputs": [
        {
          "output_type": "stream",
          "name": "stdout",
          "text": [
            "Predictions for new samples:\n",
            "Sample: [62  0  0], Prediction: Can Play\n",
            "Sample: [75  1  0], Prediction: Can't Play\n",
            "Sample: [78  0  1], Prediction: Can't Play\n"
          ]
        }
      ]
    }
  ]
}