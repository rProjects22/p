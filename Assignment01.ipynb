{
  "nbformat": 4,
  "nbformat_minor": 0,
  "metadata": {
    "colab": {
      "provenance": [],
      "toc_visible": true
    },
    "kernelspec": {
      "name": "python3",
      "display_name": "Python 3"
    },
    "language_info": {
      "name": "python"
    }
  },
  "cells": [
    {
      "cell_type": "markdown",
      "source": [
        "# Mehlika Tozlu"
      ],
      "metadata": {
        "id": "FHuKApDyM0h6"
      }
    },
    {
      "cell_type": "markdown",
      "source": [
        "# Assignment01\n",
        "\n",
        "\n",
        "> Student ID (last 4 Digits) : 7672\n",
        "\n"
      ],
      "metadata": {
        "id": "0nTuRwiCNOPd"
      }
    },
    {
      "cell_type": "code",
      "source": [
        "import numpy as np\n",
        "import pandas as pd\n",
        "#summrize the set of values using aggregates in NumPy\n",
        "data = pd.read_csv('biostats.csv')\n",
        "age = np.array(data['Age'])\n",
        "print(age)"
      ],
      "metadata": {
        "id": "bQdA-siHM14f"
      },
      "execution_count": null,
      "outputs": []
    },
    {
      "cell_type": "code",
      "source": [
        "#Now that we data array, do some statics on them:\n",
        "\n",
        "# Task 4: Calculate and print the average, standard deviation, minimum, and maximum of the array\n",
        "print(\"Average:\", np.mean(age))\n",
        "print(\"Standard Deviation:\", np.std(age))\n",
        "print(\"Minimum:\", np.min(age))\n",
        "print(\"Maximum:\", np.max(age))"
      ],
      "metadata": {
        "id": "pP-JkNoWK2Ev"
      },
      "execution_count": null,
      "outputs": []
    },
    {
      "cell_type": "code",
      "source": [
        "# Task 5: Find the 30th percentile, median, and 70th percentile of the Age column\n",
        "print(\"30th Percentile:\", np.percentile(age, 30))\n",
        "print(\"Median:\", np.median(age))\n",
        "print(\"70th Percentile:\", np.percentile(age, 70))"
      ],
      "metadata": {
        "id": "kSE6yjooK44D"
      },
      "execution_count": null,
      "outputs": []
    },
    {
      "cell_type": "code",
      "source": [
        "%matplotlib inline\n",
        "import matplotlib.pyplot as plt\n",
        "import seaborn; seaborn.set()\n",
        "\n",
        "plt.hist(age, bins=20, color='skyblue', edgecolor='black')\n",
        "plt.title('Age Distribution – By YourFirstName')\n",
        "plt.xlabel('Age')\n",
        "plt.ylabel('Frequency')\n",
        "plt.show()"
      ],
      "metadata": {
        "id": "S8cgv_RwK7Yg"
      },
      "execution_count": null,
      "outputs": []
    }
  ]
}